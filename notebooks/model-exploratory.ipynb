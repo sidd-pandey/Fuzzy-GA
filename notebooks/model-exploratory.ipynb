{
 "cells": [
  {
   "cell_type": "code",
   "execution_count": 8,
   "metadata": {},
   "outputs": [],
   "source": [
    "import numpy as np\n",
    "import pandas as pd\n",
    "import sklearn.metrics as metrics\n",
    "from sklearn.neural_network import MLPClassifier\n",
    "from sklearn.ensemble import RandomForestClassifier\n",
    "from sklearn.model_selection import train_test_split\n",
    "from sklearn import preprocessing"
   ]
  },
  {
   "cell_type": "code",
   "execution_count": 9,
   "metadata": {},
   "outputs": [],
   "source": [
    "df = pd.read_csv(\"../data/trialPromoResults.csv\")"
   ]
  },
  {
   "cell_type": "code",
   "execution_count": 10,
   "metadata": {},
   "outputs": [],
   "source": [
    "sex_map = {\"M\": 0, \"F\": 1}\n",
    "mstatus_map = {\"single\":0, \"married\":1, \"widowed\":2, \"divorced\":3}\n",
    "occupation_map = {'legal':0, 'IT':1, 'government':2, 'manuf':3, 'retired':4, \n",
    "                  'finance':5,'construct':6, 'education':7, 'medicine':8}\n",
    "education_map = {'postgrad':3, 'secondary':0, 'tertiary':1, 'professional':2}\n",
    "df[\"sex\"] = df[\"sex\"].map(sex_map)\n",
    "df[\"mstatus\"] = df[\"mstatus\"].map(mstatus_map)\n",
    "df[\"occupation\"] = df[\"occupation\"].map(occupation_map)\n",
    "df[\"education\"] = df[\"education\"].map(education_map)"
   ]
  },
  {
   "cell_type": "code",
   "execution_count": 11,
   "metadata": {},
   "outputs": [],
   "source": [
    "X = df[list(set(df.columns) - set([\"index\", \"decision\"]))]\n",
    "y = df[\"decision\"]\n",
    "X_train, X_test, y_train, y_test = train_test_split(X, y, stratify=y, test_size=0.2)"
   ]
  },
  {
   "cell_type": "code",
   "execution_count": 12,
   "metadata": {},
   "outputs": [
    {
     "data": {
      "text/plain": [
       "None    828\n",
       "A       133\n",
       "B        39\n",
       "Name: decision, dtype: int64"
      ]
     },
     "execution_count": 12,
     "metadata": {},
     "output_type": "execute_result"
    }
   ],
   "source": [
    "y.value_counts()"
   ]
  },
  {
   "cell_type": "code",
   "execution_count": 13,
   "metadata": {},
   "outputs": [
    {
     "name": "stdout",
     "output_type": "stream",
     "text": [
      "[('A', 150), ('B', 100), ('None', 250)]\n"
     ]
    }
   ],
   "source": [
    "from imblearn.over_sampling import RandomOverSampler\n",
    "from imblearn.under_sampling import RandomUnderSampler\n",
    "from collections import Counter\n",
    "X_resampled, y_resampled = RandomOverSampler(ratio={\"A\":150, \"B\":100}).fit_sample(X_train, y_train)\n",
    "X_resampled, y_resampled = RandomUnderSampler(ratio={\"None\":250}).fit_sample(X_resampled, y_resampled)\n",
    "print(sorted(Counter(y_resampled).items()))"
   ]
  },
  {
   "cell_type": "code",
   "execution_count": 14,
   "metadata": {},
   "outputs": [
    {
     "name": "stdout",
     "output_type": "stream",
     "text": [
      "[[ 15   0  11]\n",
      " [  0   4   4]\n",
      " [ 35   8 123]]\n",
      "             precision    recall  f1-score   support\n",
      "\n",
      "          A       0.30      0.58      0.39        26\n",
      "          B       0.33      0.50      0.40         8\n",
      "       None       0.89      0.74      0.81       166\n",
      "\n",
      "avg / total       0.79      0.71      0.74       200\n",
      "\n",
      "0.71\n"
     ]
    }
   ],
   "source": [
    "model = RandomForestClassifier(n_estimators=1000, max_features=None)\n",
    "model.fit(X_resampled, y_resampled)\n",
    "y_pred = model.predict(X_test)\n",
    "print(metrics.confusion_matrix(y_test, y_pred))\n",
    "print(metrics.classification_report(y_test, y_pred))\n",
    "print(metrics.accuracy_score(y_test, y_pred))"
   ]
  }
 ],
 "metadata": {
  "kernelspec": {
   "display_name": "Python 3",
   "language": "python",
   "name": "python3"
  },
  "language_info": {
   "codemirror_mode": {
    "name": "ipython",
    "version": 3
   },
   "file_extension": ".py",
   "mimetype": "text/x-python",
   "name": "python",
   "nbconvert_exporter": "python",
   "pygments_lexer": "ipython3",
   "version": "3.6.6"
  }
 },
 "nbformat": 4,
 "nbformat_minor": 2
}
