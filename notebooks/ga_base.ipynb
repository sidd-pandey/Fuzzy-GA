{
 "cells": [
  {
   "cell_type": "code",
   "execution_count": 1,
   "metadata": {},
   "outputs": [],
   "source": [
    "import pandas as pd\n",
    "import numpy as np\n",
    "import seaborn as sns\n",
    "import sklearn.metrics as metrics\n",
    "sns.set()"
   ]
  },
  {
   "cell_type": "code",
   "execution_count": 13,
   "metadata": {},
   "outputs": [],
   "source": [
    "actual = pd.read_csv(\"../data/Cust_Actual.csv\", index_col=[\"index\"])\n",
    "base = pd.read_csv(\"../data/final_resuls_kk/Cust_Predict_base_4000.csv\", index_col=[\"index\"])\n",
    "ga = pd.read_csv(\"../data/final_resuls_kk/Cust_Predict_ga_new_4000.csv\", index_col=[\"index\"])\n",
    "ga_old = pd.read_csv(\"../data/final_resuls_kk/Cust_Predict_ga_4000.csv\", index_col=[\"index\"])"
   ]
  },
  {
   "cell_type": "code",
   "execution_count": 17,
   "metadata": {},
   "outputs": [],
   "source": [
    "df = actual.rename(axis=1, mapper={\"cust Investment Potential Score\":\"cip_actual\"})\n",
    "df[\"cip_base\"] = base[\"cip\"]\n",
    "df[\"cip_ga\"] = ga[\"cip\"]\n",
    "df[\"cip_ga_old\"] = ga_old[\"cip\"]"
   ]
  },
  {
   "cell_type": "code",
   "execution_count": 18,
   "metadata": {},
   "outputs": [
    {
     "data": {
      "text/html": [
       "<div>\n",
       "<style scoped>\n",
       "    .dataframe tbody tr th:only-of-type {\n",
       "        vertical-align: middle;\n",
       "    }\n",
       "\n",
       "    .dataframe tbody tr th {\n",
       "        vertical-align: top;\n",
       "    }\n",
       "\n",
       "    .dataframe thead th {\n",
       "        text-align: right;\n",
       "    }\n",
       "</style>\n",
       "<table border=\"1\" class=\"dataframe\">\n",
       "  <thead>\n",
       "    <tr style=\"text-align: right;\">\n",
       "      <th></th>\n",
       "      <th>status</th>\n",
       "      <th>cip_actual</th>\n",
       "      <th>cip_base</th>\n",
       "      <th>cip_ga</th>\n",
       "      <th>cip_ga_old</th>\n",
       "    </tr>\n",
       "    <tr>\n",
       "      <th>index</th>\n",
       "      <th></th>\n",
       "      <th></th>\n",
       "      <th></th>\n",
       "      <th></th>\n",
       "      <th></th>\n",
       "    </tr>\n",
       "  </thead>\n",
       "  <tbody>\n",
       "    <tr>\n",
       "      <th>1001</th>\n",
       "      <td>None</td>\n",
       "      <td>5.2</td>\n",
       "      <td>8.415986</td>\n",
       "      <td>4.438926</td>\n",
       "      <td>8.036291</td>\n",
       "    </tr>\n",
       "    <tr>\n",
       "      <th>1002</th>\n",
       "      <td>None</td>\n",
       "      <td>2.5</td>\n",
       "      <td>6.756518</td>\n",
       "      <td>4.438926</td>\n",
       "      <td>4.559234</td>\n",
       "    </tr>\n",
       "    <tr>\n",
       "      <th>1003</th>\n",
       "      <td>None</td>\n",
       "      <td>4.1</td>\n",
       "      <td>7.898955</td>\n",
       "      <td>4.438926</td>\n",
       "      <td>4.559234</td>\n",
       "    </tr>\n",
       "    <tr>\n",
       "      <th>1004</th>\n",
       "      <td>None</td>\n",
       "      <td>4.4</td>\n",
       "      <td>8.338204</td>\n",
       "      <td>4.438926</td>\n",
       "      <td>4.559234</td>\n",
       "    </tr>\n",
       "    <tr>\n",
       "      <th>1005</th>\n",
       "      <td>None</td>\n",
       "      <td>2.3</td>\n",
       "      <td>3.176501</td>\n",
       "      <td>4.193181</td>\n",
       "      <td>3.567305</td>\n",
       "    </tr>\n",
       "  </tbody>\n",
       "</table>\n",
       "</div>"
      ],
      "text/plain": [
       "      status  cip_actual  cip_base    cip_ga  cip_ga_old\n",
       "index                                                   \n",
       "1001    None         5.2  8.415986  4.438926    8.036291\n",
       "1002    None         2.5  6.756518  4.438926    4.559234\n",
       "1003    None         4.1  7.898955  4.438926    4.559234\n",
       "1004    None         4.4  8.338204  4.438926    4.559234\n",
       "1005    None         2.3  3.176501  4.193181    3.567305"
      ]
     },
     "execution_count": 18,
     "metadata": {},
     "output_type": "execute_result"
    }
   ],
   "source": [
    "df.head()"
   ]
  },
  {
   "cell_type": "code",
   "execution_count": 19,
   "metadata": {},
   "outputs": [
    {
     "name": "stdout",
     "output_type": "stream",
     "text": [
      "mae base: 3.14036112944412\n",
      "mae ga: 1.16600565011708\n",
      "mae ga_old: 1.319958990856536\n"
     ]
    }
   ],
   "source": [
    "print(\"mae base:\",metrics.mean_absolute_error(df[\"cip_actual\"],df[\"cip_base\"]))\n",
    "print(\"mae ga:\",metrics.mean_absolute_error(df[\"cip_actual\"],df[\"cip_ga\"]))\n",
    "print(\"mae ga_old:\",metrics.mean_absolute_error(df[\"cip_actual\"],df[\"cip_ga_old\"]))"
   ]
  },
  {
   "cell_type": "code",
   "execution_count": 21,
   "metadata": {},
   "outputs": [
    {
     "name": "stdout",
     "output_type": "stream",
     "text": [
      "mse base: 10.893712283666703\n",
      "mse ga: 1.7873043282983636\n",
      "mse ga_old: 2.1713437137907867\n"
     ]
    }
   ],
   "source": [
    "print(\"mse base:\",(metrics.mean_squared_error(df[\"cip_actual\"],df[\"cip_base\"])))\n",
    "print(\"mse ga:\",(metrics.mean_squared_error(df[\"cip_actual\"],df[\"cip_ga\"])))\n",
    "print(\"mse ga_old:\",metrics.mean_squared_error(df[\"cip_actual\"],df[\"cip_ga_old\"]))"
   ]
  },
  {
   "cell_type": "code",
   "execution_count": 12,
   "metadata": {},
   "outputs": [
    {
     "name": "stdout",
     "output_type": "stream",
     "text": [
      "rmse base: 3.3005624192956424\n",
      "rmse ga: 1.3369010166419815\n"
     ]
    }
   ],
   "source": [
    "print(\"rmse base:\",np.sqrt(metrics.mean_squared_error(df[\"cip_actual\"],df[\"cip_base\"])))\n",
    "print(\"rmse ga:\",np.sqrt(metrics.mean_squared_error(df[\"cip_actual\"],df[\"cip_ga\"])))\n",
    "print(\"rmse ga:\",np.sqrt(metrics.mean_squared_error(df[\"cip_actual\"],df[\"cip_ga\"])))"
   ]
  },
  {
   "cell_type": "code",
   "execution_count": 8,
   "metadata": {},
   "outputs": [
    {
     "data": {
      "text/plain": [
       "<matplotlib.axes._subplots.AxesSubplot at 0x19290fa8630>"
      ]
     },
     "execution_count": 8,
     "metadata": {},
     "output_type": "execute_result"
    },
    {
     "data": {
      "image/png": "[encoded data removed]",
      "text/plain": [
       "<Figure size 432x288 with 1 Axes>"
      ]
     },
     "metadata": {},
     "output_type": "display_data"
    }
   ],
   "source": [
    "sns.distplot(df[\"cip_actual\"])"
   ]
  },
  {
   "cell_type": "code",
   "execution_count": 9,
   "metadata": {},
   "outputs": [
    {
     "data": {
      "text/plain": [
       "<matplotlib.axes._subplots.AxesSubplot at 0x19290f60400>"
      ]
     },
     "execution_count": 9,
     "metadata": {},
     "output_type": "execute_result"
    },
    {
     "data": {
      "image/png": "[encoded data removed]",
      "text/plain": [
       "<Figure size 432x288 with 1 Axes>"
      ]
     },
     "metadata": {},
     "output_type": "display_data"
    }
   ],
   "source": [
    "sns.distplot(df[\"cip_base\"])"
   ]
  },
  {
   "cell_type": "code",
   "execution_count": 10,
   "metadata": {},
   "outputs": [
    {
     "data": {
      "text/plain": [
       "<matplotlib.axes._subplots.AxesSubplot at 0x192940f2978>"
      ]
     },
     "execution_count": 10,
     "metadata": {},
     "output_type": "execute_result"
    },
    {
     "data": {
      "image/png": "[encoded data removed]",
      "text/plain": [
       "<Figure size 432x288 with 1 Axes>"
      ]
     },
     "metadata": {},
     "output_type": "display_data"
    }
   ],
   "source": [
    "sns.distplot(df[\"cip_ga\"])"
   ]
  },
  {
   "cell_type": "code",
   "execution_count": 11,
   "metadata": {},
   "outputs": [
    {
     "name": "stdout",
     "output_type": "stream",
     "text": [
      "3.35855\n",
      "0.8605009572917395\n"
     ]
    }
   ],
   "source": [
    "\n",
    "print(np.mean(df[\"cip_actual\"]))\n",
    "print(np.std(df[\"cip_actual\"]))"
   ]
  }
 ],
 "metadata": {
  "kernelspec": {
   "display_name": "Python 3",
   "language": "python",
   "name": "python3"
  },
  "language_info": {
   "codemirror_mode": {
    "name": "ipython",
    "version": 3
   },
   "file_extension": ".py",
   "mimetype": "text/x-python",
   "name": "python",
   "nbconvert_exporter": "python",
   "pygments_lexer": "ipython3",
   "version": "3.6.6"
  }
 },
 "nbformat": 4,
 "nbformat_minor": 2
}
