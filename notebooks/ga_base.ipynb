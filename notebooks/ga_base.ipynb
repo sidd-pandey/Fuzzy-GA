{
 "cells": [
  {
   "cell_type": "code",
   "execution_count": 2,
   "metadata": {},
   "outputs": [],
   "source": [
    "import pandas as pd\n",
    "import numpy as np\n",
    "import sklearn.metrics as metrics"
   ]
  },
  {
   "cell_type": "code",
   "execution_count": 6,
   "metadata": {},
   "outputs": [],
   "source": [
    "actual = pd.read_csv(\"../data/Cust_Actual.csv\", index_col=[\"index\"])\n",
    "base = pd.read_csv(\"../data/Cust_Predict_base.csv\", index_col=[\"index\"])\n",
    "ga = pd.read_csv(\"../data/Cust_Predict_ga.csv\", index_col=[\"index\"])"
   ]
  },
  {
   "cell_type": "code",
   "execution_count": 14,
   "metadata": {},
   "outputs": [
    {
     "data": {
      "text/html": [
       "<div>\n",
       "<style scoped>\n",
       "    .dataframe tbody tr th:only-of-type {\n",
       "        vertical-align: middle;\n",
       "    }\n",
       "\n",
       "    .dataframe tbody tr th {\n",
       "        vertical-align: top;\n",
       "    }\n",
       "\n",
       "    .dataframe thead th {\n",
       "        text-align: right;\n",
       "    }\n",
       "</style>\n",
       "<table border=\"1\" class=\"dataframe\">\n",
       "  <thead>\n",
       "    <tr style=\"text-align: right;\">\n",
       "      <th></th>\n",
       "      <th>product</th>\n",
       "      <th>cip</th>\n",
       "      <th>expected profit</th>\n",
       "    </tr>\n",
       "    <tr>\n",
       "      <th>index</th>\n",
       "      <th></th>\n",
       "      <th></th>\n",
       "      <th></th>\n",
       "    </tr>\n",
       "  </thead>\n",
       "  <tbody>\n",
       "    <tr>\n",
       "      <th>4068</th>\n",
       "      <td>None</td>\n",
       "      <td>5.551124</td>\n",
       "      <td>0</td>\n",
       "    </tr>\n",
       "    <tr>\n",
       "      <th>4542</th>\n",
       "      <td>None</td>\n",
       "      <td>8.415986</td>\n",
       "      <td>0</td>\n",
       "    </tr>\n",
       "    <tr>\n",
       "      <th>3677</th>\n",
       "      <td>None</td>\n",
       "      <td>5.895835</td>\n",
       "      <td>0</td>\n",
       "    </tr>\n",
       "    <tr>\n",
       "      <th>3461</th>\n",
       "      <td>None</td>\n",
       "      <td>8.415986</td>\n",
       "      <td>0</td>\n",
       "    </tr>\n",
       "    <tr>\n",
       "      <th>1590</th>\n",
       "      <td>None</td>\n",
       "      <td>8.415986</td>\n",
       "      <td>0</td>\n",
       "    </tr>\n",
       "  </tbody>\n",
       "</table>\n",
       "</div>"
      ],
      "text/plain": [
       "      product       cip  expected profit\n",
       "index                                   \n",
       "4068     None  5.551124                0\n",
       "4542     None  8.415986                0\n",
       "3677     None  5.895835                0\n",
       "3461     None  8.415986                0\n",
       "1590     None  8.415986                0"
      ]
     },
     "execution_count": 14,
     "metadata": {},
     "output_type": "execute_result"
    }
   ],
   "source": [
    "base.head()"
   ]
  },
  {
   "cell_type": "code",
   "execution_count": 15,
   "metadata": {},
   "outputs": [],
   "source": [
    "df = actual.rename(axis=1, mapper={\"cust Investment Potential Score\":\"cip_actual\"})\n",
    "df[\"cip_base\"] = base[\"cip\"]\n",
    "df[\"cip_ga\"] = ga[\"cip\"]"
   ]
  },
  {
   "cell_type": "code",
   "execution_count": 17,
   "metadata": {},
   "outputs": [
    {
     "name": "stdout",
     "output_type": "stream",
     "text": [
      "mae base: 3.14036112944412\n",
      "mae ga: 1.319958990856536\n"
     ]
    }
   ],
   "source": [
    "print(\"mae base:\",metrics.mean_absolute_error(df[\"cip_actual\"],df[\"cip_base\"]))\n",
    "print(\"mae ga:\",metrics.mean_absolute_error(df[\"cip_actual\"],df[\"cip_ga\"]))"
   ]
  },
  {
   "cell_type": "code",
   "execution_count": 18,
   "metadata": {},
   "outputs": [
    {
     "name": "stdout",
     "output_type": "stream",
     "text": [
      "mae base: 10.893712283666703\n",
      "mae ga: 2.1713437137907867\n"
     ]
    }
   ],
   "source": [
    "print(\"mae base:\",metrics.mean_squared_error(df[\"cip_actual\"],df[\"cip_base\"]))\n",
    "print(\"mae ga:\",metrics.mean_squared_error(df[\"cip_actual\"],df[\"cip_ga\"]))"
   ]
  }
 ],
 "metadata": {
  "kernelspec": {
   "display_name": "Python 3",
   "language": "python",
   "name": "python3"
  },
  "language_info": {
   "codemirror_mode": {
    "name": "ipython",
    "version": 3
   },
   "file_extension": ".py",
   "mimetype": "text/x-python",
   "name": "python",
   "nbconvert_exporter": "python",
   "pygments_lexer": "ipython3",
   "version": "3.6.6"
  }
 },
 "nbformat": 4,
 "nbformat_minor": 2
}
